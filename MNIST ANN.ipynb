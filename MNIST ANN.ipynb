{
 "cells": [
  {
   "cell_type": "code",
   "execution_count": 11,
   "id": "19ede13e",
   "metadata": {},
   "outputs": [],
   "source": [
    "import tensorflow as tf\n",
    "import keras\n",
    "from tensorflow.keras import datasets\n",
    "from keras.models import Sequential\n",
    "from keras.layers import Dense\n",
    "from tensorflow.keras import optimizers\n",
    "import matplotlib.pyplot as plt"
   ]
  },
  {
   "cell_type": "code",
   "execution_count": 12,
   "id": "3860386c",
   "metadata": {},
   "outputs": [],
   "source": [
    "(x_train, y_train_1), (x_test, y_test_1) = datasets.mnist.load_data()"
   ]
  },
  {
   "cell_type": "code",
   "execution_count": 13,
   "id": "d48eed66",
   "metadata": {},
   "outputs": [
    {
     "name": "stdout",
     "output_type": "stream",
     "text": [
      "(60000, 28, 28)\n"
     ]
    }
   ],
   "source": [
    "print(x_train.shape)"
   ]
  },
  {
   "cell_type": "code",
   "execution_count": 14,
   "id": "597ba254",
   "metadata": {},
   "outputs": [
    {
     "name": "stdout",
     "output_type": "stream",
     "text": [
      "5\n"
     ]
    }
   ],
   "source": [
    "print(y_train_1[0])"
   ]
  },
  {
   "cell_type": "code",
   "execution_count": 15,
   "id": "02dda31f",
   "metadata": {},
   "outputs": [],
   "source": [
    "y_train = keras.utils.to_categorical(y_train_1, 10)\n",
    "y_test = keras.utils.to_categorical(y_test_1, 10)"
   ]
  },
  {
   "cell_type": "code",
   "execution_count": 16,
   "id": "01fe0f02",
   "metadata": {},
   "outputs": [
    {
     "name": "stdout",
     "output_type": "stream",
     "text": [
      "[0. 0. 0. 0. 0. 1. 0. 0. 0. 0.]\n"
     ]
    }
   ],
   "source": [
    "print(y_train[0])"
   ]
  },
  {
   "cell_type": "code",
   "execution_count": 17,
   "id": "e51aee7c",
   "metadata": {},
   "outputs": [
    {
     "name": "stdout",
     "output_type": "stream",
     "text": [
      "%pylab is deprecated, use %matplotlib inline and import the required libraries.\n",
      "Populating the interactive namespace from numpy and matplotlib\n"
     ]
    },
    {
     "data": {
      "text/plain": [
       "<matplotlib.image.AxesImage at 0x1b7e163a3d0>"
      ]
     },
     "execution_count": 17,
     "metadata": {},
     "output_type": "execute_result"
    },
    {
     "data": {
      "image/png": "[encoded data removed]",
      "text/plain": [
       "<Figure size 432x288 with 1 Axes>"
      ]
     },
     "metadata": {
      "needs_background": "light"
     },
     "output_type": "display_data"
    }
   ],
   "source": [
    "%pylab inline\n",
    "plt.imshow(x_train[0])"
   ]
  },
  {
   "cell_type": "code",
   "execution_count": 18,
   "id": "0656a468",
   "metadata": {},
   "outputs": [],
   "source": [
    "x_train = x_train.reshape(60000, 784)\n",
    "x_test = x_test.reshape(10000, 784)"
   ]
  },
  {
   "cell_type": "code",
   "execution_count": 19,
   "id": "278f077a",
   "metadata": {},
   "outputs": [],
   "source": [
    "x_train = x_train.astype('float32')/255\n",
    "x_test = x_test.astype('float32')/255"
   ]
  },
  {
   "cell_type": "code",
   "execution_count": 20,
   "id": "33e667ff",
   "metadata": {},
   "outputs": [
    {
     "name": "stdout",
     "output_type": "stream",
     "text": [
      "Model: \"sequential\"\n",
      "_________________________________________________________________\n",
      " Layer (type)                Output Shape              Param #   \n",
      "=================================================================\n",
      " dense (Dense)               (None, 512)               401920    \n",
      "                                                                 \n",
      " dense_1 (Dense)             (None, 265)               135945    \n",
      "                                                                 \n",
      " dense_2 (Dense)             (None, 124)               32984     \n",
      "                                                                 \n",
      " dense_3 (Dense)             (None, 10)                1250      \n",
      "                                                                 \n",
      "=================================================================\n",
      "Total params: 572,099\n",
      "Trainable params: 572,099\n",
      "Non-trainable params: 0\n",
      "_________________________________________________________________\n"
     ]
    }
   ],
   "source": [
    "#ANN\n",
    "model = Sequential([Dense(512, input_dim = 784, activation = 'relu'), Dense(265, activation = 'relu'), Dense(124, activation = 'relu'), Dense(10, activation = 'softmax')])\n",
    "model.summary()"
   ]
  },
  {
   "cell_type": "code",
   "execution_count": 21,
   "id": "f7a629e1",
   "metadata": {},
   "outputs": [],
   "source": [
    "opt = optimizers.Adam(0.001) #Learning rate"
   ]
  },
  {
   "cell_type": "code",
   "execution_count": 22,
   "id": "00807c8c",
   "metadata": {},
   "outputs": [],
   "source": [
    "model.compile(loss = keras.losses.categorical_crossentropy, optimizer = opt, metrics = ['accuracy'])"
   ]
  },
  {
   "cell_type": "code",
   "execution_count": 24,
   "id": "3b413738",
   "metadata": {},
   "outputs": [
    {
     "name": "stdout",
     "output_type": "stream",
     "text": [
      "Epoch 1/5\n",
      "6000/6000 [==============================] - 28s 5ms/step - loss: 0.0456 - accuracy: 0.9867\n",
      "Epoch 2/5\n",
      "6000/6000 [==============================] - 29s 5ms/step - loss: 0.0437 - accuracy: 0.9875\n",
      "Epoch 3/5\n",
      "6000/6000 [==============================] - 28s 5ms/step - loss: 0.0395 - accuracy: 0.9900\n",
      "Epoch 4/5\n",
      "6000/6000 [==============================] - 28s 5ms/step - loss: 0.0357 - accuracy: 0.9903\n",
      "Epoch 5/5\n",
      "6000/6000 [==============================] - 30s 5ms/step - loss: 0.0361 - accuracy: 0.9904\n"
     ]
    },
    {
     "data": {
      "text/plain": [
       "<keras.callbacks.History at 0x1b7819168b0>"
      ]
     },
     "execution_count": 24,
     "metadata": {},
     "output_type": "execute_result"
    }
   ],
   "source": [
    "model.fit(x_train, y_train, epochs = 5, batch_size = 10)"
   ]
  },
  {
   "cell_type": "code",
   "execution_count": 25,
   "id": "b8c1f78c",
   "metadata": {},
   "outputs": [
    {
     "name": "stdout",
     "output_type": "stream",
     "text": [
      "313/313 [==============================] - 1s 2ms/step - loss: 0.1444 - accuracy: 0.9785\n",
      "The test accuracy is: 0.9785000085830688\n"
     ]
    }
   ],
   "source": [
    "test_loss, test_accuracy = model.evaluate(x = x_test, y = y_test)\n",
    "print(\"The test accuracy is:\", test_accuracy)"
   ]
  },
  {
   "cell_type": "code",
   "execution_count": 26,
   "id": "828de9f1",
   "metadata": {},
   "outputs": [],
   "source": [
    "model.save('the_final_ANN_model.h5')"
   ]
  },
  {
   "cell_type": "code",
   "execution_count": null,
   "id": "5b58220c",
   "metadata": {},
   "outputs": [],
   "source": []
  }
 ],
 "metadata": {
  "kernelspec": {
   "display_name": "Python 3 (ipykernel)",
   "language": "python",
   "name": "python3"
  },
  "language_info": {
   "codemirror_mode": {
    "name": "ipython",
    "version": 3
   },
   "file_extension": ".py",
   "mimetype": "text/x-python",
   "name": "python",
   "nbconvert_exporter": "python",
   "pygments_lexer": "ipython3",
   "version": "3.9.12"
  }
 },
 "nbformat": 4,
 "nbformat_minor": 5
}
