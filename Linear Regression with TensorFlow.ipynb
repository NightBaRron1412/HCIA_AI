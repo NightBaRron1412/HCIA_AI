{
 "cells": [
  {
   "cell_type": "code",
   "execution_count": 1,
   "id": "6da3121b",
   "metadata": {},
   "outputs": [],
   "source": [
    "#importing libraries\n",
    "import tensorflow as tf\n",
    "import pandas as pd\n",
    "import numpy as np\n",
    "import matplotlib.pyplot as plt"
   ]
  },
  {
   "cell_type": "code",
   "execution_count": 7,
   "id": "883c5675",
   "metadata": {},
   "outputs": [
    {
     "name": "stdout",
     "output_type": "stream",
     "text": [
      "the number of items in the data set = 9959 \n",
      "\n",
      "   Area  Value  Room  Living  School  Year  Floor\n",
      "0   128    370     3       1       1  2004     21\n",
      "1    68    330     1       2       1  2000      6\n",
      "2   125    355     3       2       0  2003      5\n",
      "3   129    278     2       2       0  2005     16\n",
      "4   118    340     3       2       0  2003      6\n",
      "5    58    300     1       1       0  2003     22\n",
      "6   104    208     3       1       0  2001      6\n",
      "7   198    380     3       2       0  2005      7\n",
      "8    98    530     3       1       1  1990     12\n",
      "9    97    465     2       1       1  1990     10\n"
     ]
    }
   ],
   "source": [
    "#import data\n",
    "dataset = pd.read_csv('bj_housing.csv')\n",
    "dataset = dataset[dataset['Area'] < 300]\n",
    "\n",
    "print(\"the number of items in the data set =\", len(dataset), \"\\n\")\n",
    "\n",
    "#printing first 10 elements of the dataset\n",
    "print(dataset.head(10))"
   ]
  },
  {
   "cell_type": "code",
   "execution_count": 10,
   "id": "474ee205",
   "metadata": {},
   "outputs": [],
   "source": [
    "#splitting the dataset into input and output data and casting it to float32\n",
    "x_train = tf.cast(dataset.iloc[:, [0]].values, tf.float32)\n",
    "y_train = tf.cast(dataset.iloc[:, 1].values, tf.float32)"
   ]
  },
  {
   "cell_type": "code",
   "execution_count": 11,
   "id": "b4c05dc4",
   "metadata": {},
   "outputs": [
    {
     "name": "stdout",
     "output_type": "stream",
     "text": [
      "Enter Learning rate value: 0.2\n",
      "Enter Training epochs value: 100\n",
      "Enter Display setup value: 1\n"
     ]
    }
   ],
   "source": [
    "#hyperparameters\n",
    "learning_rate = float(input(\"Enter Learning rate value: \"))\n",
    "training_epochs = int(input(\"Enter Training epochs value: \"))\n",
    "\n",
    "#prameters\n",
    "display_step = int(input(\"Enter Display setup value: \"))"
   ]
  },
  {
   "cell_type": "code",
   "execution_count": 12,
   "id": "393cbb58",
   "metadata": {},
   "outputs": [],
   "source": [
    "#Training parameters\n",
    "W = tf.Variable(np.random.randn(), name=\"Weight\")\n",
    "b = tf.Variable(np.random.randn(), name=\"Bias\")"
   ]
  },
  {
   "cell_type": "code",
   "execution_count": 13,
   "id": "fed30b6e",
   "metadata": {},
   "outputs": [],
   "source": [
    "#Linear regression\n",
    "def pred(x_train):\n",
    "    return tf.add(tf.multiply(x_train, W), b)"
   ]
  },
  {
   "cell_type": "code",
   "execution_count": 14,
   "id": "a745f446",
   "metadata": {},
   "outputs": [],
   "source": [
    "#Error calculation\n",
    "@tf.function\n",
    "def cost():\n",
    "    y_pred = pred(x_train)\n",
    "    return tf.reduce_mean(tf.square(y_pred - y_train))\n",
    "\n",
    "#Optimization\n",
    "def optimizer():\n",
    "    return tf.optimizers.Adam(learning_rate).minimize(cost, var_list=[W, b])\n"
   ]
  },
  {
   "cell_type": "code",
   "execution_count": 15,
   "id": "9d998b34",
   "metadata": {},
   "outputs": [
    {
     "name": "stdout",
     "output_type": "stream",
     "text": [
      "Epoch: 0001 error= 214061.437500000 W= -0.8443144 b= -0.56985307\n",
      "Epoch: 0002 error= 198826.609375000 W= -0.6443144 b= -0.36985308\n",
      "Epoch: 0003 error= 184392.468750000 W= -0.4443144 b= -0.16985309\n",
      "Epoch: 0004 error= 170759.015625000 W= -0.24431437 b= 0.030146912\n",
      "Epoch: 0005 error= 157926.281250000 W= -0.04431437 b= 0.23014691\n",
      "Epoch: 0006 error= 145894.265625000 W= 0.15568563 b= 0.43014693\n",
      "Epoch: 0007 error= 134662.953125000 W= 0.35568565 b= 0.6301469\n",
      "Epoch: 0008 error= 124232.390625000 W= 0.55568564 b= 0.8301469\n",
      "Epoch: 0009 error= 114602.507812500 W= 0.7556856 b= 1.030147\n",
      "Epoch: 0010 error= 105773.328125000 W= 0.9556856 b= 1.230147\n",
      "Epoch: 0011 error= 97744.867187500 W= 1.1556857 b= 1.430147\n",
      "Epoch: 0012 error= 90517.125000000 W= 1.3556857 b= 1.630147\n",
      "Epoch: 0013 error= 84090.093750000 W= 1.5556858 b= 1.830147\n",
      "Epoch: 0014 error= 78463.765625000 W= 1.7556858 b= 2.030147\n",
      "Epoch: 0015 error= 73638.156250000 W= 1.9556859 b= 2.2301471\n",
      "Epoch: 0016 error= 69613.257812500 W= 2.155686 b= 2.4301472\n",
      "Epoch: 0017 error= 66389.078125000 W= 2.355686 b= 2.6301472\n",
      "Epoch: 0018 error= 63965.597656250 W= 2.555686 b= 2.8301473\n",
      "Epoch: 0019 error= 62342.839843750 W= 2.755686 b= 3.0301473\n",
      "Epoch: 0020 error= 61520.789062500 W= 2.955686 b= 3.2301474\n",
      "Epoch: 0021 error= 61499.445312500 W= 3.1556861 b= 3.4301474\n",
      "Epoch: 0022 error= 61470.257812500 W= 2.955686 b= 3.6301475\n",
      "Epoch: 0023 error= 61463.585937500 W= 3.1556861 b= 3.8301475\n",
      "Epoch: 0024 error= 61420.042968750 W= 2.955686 b= 4.0301476\n",
      "Epoch: 0025 error= 61428.035156250 W= 3.1556861 b= 4.2301474\n",
      "Epoch: 0026 error= 61370.160156250 W= 2.955686 b= 4.430147\n",
      "Epoch: 0027 error= 61392.808593750 W= 3.1556861 b= 4.630147\n",
      "Epoch: 0028 error= 61320.585937500 W= 2.955686 b= 4.830147\n",
      "Epoch: 0029 error= 61357.910156250 W= 3.1556861 b= 5.0301466\n",
      "Epoch: 0030 error= 61271.343750000 W= 2.955686 b= 5.2301464\n",
      "Epoch: 0031 error= 61323.328125000 W= 3.1556861 b= 5.430146\n",
      "Epoch: 0032 error= 61222.406250000 W= 2.955686 b= 5.630146\n",
      "Epoch: 0033 error= 61289.046875000 W= 3.1556861 b= 5.830146\n",
      "Epoch: 0034 error= 61173.792968750 W= 2.955686 b= 6.0301456\n",
      "Epoch: 0035 error= 61255.105468750 W= 3.1556861 b= 6.2301455\n",
      "Epoch: 0036 error= 61125.507812500 W= 2.955686 b= 6.4301453\n",
      "Epoch: 0037 error= 61221.484375000 W= 3.1556861 b= 6.630145\n",
      "Epoch: 0038 error= 61077.539062500 W= 2.955686 b= 6.830145\n",
      "Epoch: 0039 error= 61188.187500000 W= 3.1556861 b= 7.0301447\n",
      "Epoch: 0040 error= 61029.886718750 W= 2.955686 b= 7.2301445\n",
      "Epoch: 0041 error= 61155.191406250 W= 3.1556861 b= 7.4301443\n",
      "Epoch: 0042 error= 60982.554687500 W= 2.955686 b= 7.630144\n",
      "Epoch: 0043 error= 61122.531250000 W= 3.1556861 b= 7.830144\n",
      "Epoch: 0044 error= 60935.542968750 W= 2.955686 b= 8.030144\n",
      "Epoch: 0045 error= 61090.183593750 W= 3.1556861 b= 8.230144\n",
      "Epoch: 0046 error= 60888.855468750 W= 2.955686 b= 8.430143\n",
      "Epoch: 0047 error= 61058.156250000 W= 3.1556861 b= 8.630143\n",
      "Epoch: 0048 error= 60842.484375000 W= 2.955686 b= 8.830143\n",
      "Epoch: 0049 error= 61026.453125000 W= 3.1556861 b= 9.030143\n",
      "Epoch: 0050 error= 60796.437500000 W= 2.955686 b= 9.230143\n",
      "Epoch: 0051 error= 60995.070312500 W= 3.1556861 b= 9.430142\n",
      "Epoch: 0052 error= 60750.707031250 W= 2.955686 b= 9.630142\n",
      "Epoch: 0053 error= 60964.003906250 W= 3.1556861 b= 9.830142\n",
      "Epoch: 0054 error= 60705.300781250 W= 2.955686 b= 10.030142\n",
      "Epoch: 0055 error= 60933.257812500 W= 3.1556861 b= 10.230142\n",
      "Epoch: 0056 error= 60660.210937500 W= 2.955686 b= 10.430141\n",
      "Epoch: 0057 error= 60902.832031250 W= 3.1556861 b= 10.630141\n",
      "Epoch: 0058 error= 60615.441406250 W= 2.955686 b= 10.830141\n",
      "Epoch: 0059 error= 60872.722656250 W= 3.1556861 b= 11.030141\n",
      "Epoch: 0060 error= 60570.984375000 W= 2.955686 b= 11.230141\n",
      "Epoch: 0061 error= 60842.933593750 W= 3.1556861 b= 11.4301405\n",
      "Epoch: 0062 error= 60526.851562500 W= 2.955686 b= 11.63014\n",
      "Epoch: 0063 error= 60813.476562500 W= 3.1556861 b= 11.83014\n",
      "Epoch: 0064 error= 60483.042968750 W= 2.955686 b= 12.03014\n",
      "Epoch: 0065 error= 60784.332031250 W= 3.1556861 b= 12.23014\n",
      "Epoch: 0066 error= 60439.554687500 W= 2.955686 b= 12.43014\n",
      "Epoch: 0067 error= 60755.507812500 W= 3.1556861 b= 12.630139\n",
      "Epoch: 0068 error= 60396.378906250 W= 2.955686 b= 12.830139\n",
      "Epoch: 0069 error= 60727.003906250 W= 3.1556861 b= 13.030139\n",
      "Epoch: 0070 error= 60353.539062500 W= 2.955686 b= 13.230139\n",
      "Epoch: 0071 error= 60698.812500000 W= 3.1556861 b= 13.430139\n",
      "Epoch: 0072 error= 60311.000000000 W= 2.955686 b= 13.630138\n",
      "Epoch: 0073 error= 60670.949218750 W= 3.1556861 b= 13.830138\n",
      "Epoch: 0074 error= 60268.785156250 W= 2.955686 b= 14.030138\n",
      "Epoch: 0075 error= 60643.406250000 W= 3.1556861 b= 14.230138\n",
      "Epoch: 0076 error= 60226.906250000 W= 2.955686 b= 14.430138\n",
      "Epoch: 0077 error= 60582.101562500 W= 2.755686 b= 14.630137\n",
      "Epoch: 0078 error= 60185.335937500 W= 2.955686 b= 14.830137\n",
      "Epoch: 0079 error= 60526.183593750 W= 2.755686 b= 15.030137\n",
      "Epoch: 0080 error= 60144.082031250 W= 2.955686 b= 15.230137\n",
      "Epoch: 0081 error= 60470.597656250 W= 2.755686 b= 15.430137\n",
      "Epoch: 0082 error= 60103.152343750 W= 2.955686 b= 15.6301365\n",
      "Epoch: 0083 error= 60415.324218750 W= 2.755686 b= 15.830136\n",
      "Epoch: 0084 error= 60062.546875000 W= 2.955686 b= 16.030136\n",
      "Epoch: 0085 error= 60360.371093750 W= 2.755686 b= 16.230137\n",
      "Epoch: 0086 error= 60022.253906250 W= 2.955686 b= 16.430138\n",
      "Epoch: 0087 error= 60305.730468750 W= 2.755686 b= 16.630138\n",
      "Epoch: 0088 error= 59982.289062500 W= 2.955686 b= 16.83014\n",
      "Epoch: 0089 error= 60251.417968750 W= 2.755686 b= 17.03014\n",
      "Epoch: 0090 error= 59942.625000000 W= 2.955686 b= 17.23014\n",
      "Epoch: 0091 error= 60197.417968750 W= 2.755686 b= 17.430141\n",
      "Epoch: 0092 error= 59903.296875000 W= 2.955686 b= 17.630142\n",
      "Epoch: 0093 error= 60143.742187500 W= 2.755686 b= 17.830143\n",
      "Epoch: 0094 error= 59864.292968750 W= 2.955686 b= 18.030144\n",
      "Epoch: 0095 error= 60090.390625000 W= 2.755686 b= 18.230145\n",
      "Epoch: 0096 error= 59825.601562500 W= 2.955686 b= 18.430145\n",
      "Epoch: 0097 error= 60037.355468750 W= 2.755686 b= 18.630146\n",
      "Epoch: 0098 error= 59787.234375000 W= 2.955686 b= 18.830147\n",
      "Epoch: 0099 error= 59984.640625000 W= 2.755686 b= 19.030148\n",
      "Epoch: 0100 error= 59749.187500000 W= 2.955686 b= 19.230148\n",
      "Optimization Finished!\n",
      "-------------------------------------------------------------\n",
      "Training error= 59749.188 W= 2.955686 b= 19.230148 \n",
      "\n"
     ]
    }
   ],
   "source": [
    "# Fit all training data\n",
    "for epoch in range(training_epochs):\n",
    "    optimizer()\n",
    "    \n",
    "    # Display logs per epoch step\n",
    "    if (epoch) % display_step == 0:\n",
    "        c = cost()\n",
    "        print(\"Epoch:\", '%04d' % (epoch+1), \"error=\", \"{:.9f}\".format(c), \\\n",
    "            \"W=\", W.numpy(), \"b=\", b.numpy())\n",
    "\n",
    "print(\"Optimization Finished!\")\n",
    "print(\"-------------------------------------------------------------\")\n",
    "\n",
    "training_error = cost()\n",
    "print(\"Training error=\", training_error.numpy(), \"W=\", W.numpy(), \"b=\", b.numpy(), '\\n')"
   ]
  },
  {
   "cell_type": "code",
   "execution_count": 16,
   "id": "79cc0b24",
   "metadata": {},
   "outputs": [
    {
     "data": {
      "image/png": "[encoded data removed]",
      "text/plain": [
       "<Figure size 432x288 with 1 Axes>"
      ]
     },
     "metadata": {
      "needs_background": "light"
     },
     "output_type": "display_data"
    }
   ],
   "source": [
    "# Graphic display\n",
    "plt.plot(x_train, y_train, 'ro', label='Original data')\n",
    "plt.plot(x_train, pred(x_train), label='Fitted line')\n",
    "plt.legend()\n",
    "plt.show()"
   ]
  },
  {
   "cell_type": "code",
   "execution_count": 17,
   "id": "89caa41c",
   "metadata": {},
   "outputs": [
    {
     "name": "stdout",
     "output_type": "stream",
     "text": [
      "The home price is 314.79877\n"
     ]
    }
   ],
   "source": [
    "#model testing\n",
    "home_val = pred(100)\n",
    "print(\"The home price is\", home_val.numpy())"
   ]
  },
  {
   "cell_type": "code",
   "execution_count": null,
   "id": "47fb2434",
   "metadata": {},
   "outputs": [],
   "source": []
  }
 ],
 "metadata": {
  "kernelspec": {
   "display_name": "Python 3 (ipykernel)",
   "language": "python",
   "name": "python3"
  },
  "language_info": {
   "codemirror_mode": {
    "name": "ipython",
    "version": 3
   },
   "file_extension": ".py",
   "mimetype": "text/x-python",
   "name": "python",
   "nbconvert_exporter": "python",
   "pygments_lexer": "ipython3",
   "version": "3.9.12"
  }
 },
 "nbformat": 4,
 "nbformat_minor": 5
}
